{
 "cells": [
  {
   "cell_type": "markdown",
   "metadata": {},
   "source": [
    "# Cornell Flux Chamber"
   ]
  },
  {
   "cell_type": "markdown",
   "metadata": {},
   "source": [
    "> - [Project overview](#Project-overview)\n",
    "> - [Code](#Code)\n",
    "> - [Mechanical design](#Mechanical-design)\n",
    "> - [Calibration and deployment instructions](#Calibration-and-deployment-instructions)\n",
    "> - [Resources and literature](#Resources-and-literature)"
   ]
  },
  {
   "cell_type": "markdown",
   "metadata": {},
   "source": [
    "***"
   ]
  },
  {
   "cell_type": "markdown",
   "metadata": {},
   "source": [
    "## Project overview\n",
    "\n",
    "Methane (CH4) emissions are increasing globally. Yet, partitioning different sources of methane emissions remains challenging due to the limited spatial and temporal scale of field measurements. Improving ground measurements of CH4 flux will allow us to identify and quantify how different policy and management actions can reduce emissions. In order to increase ground measurements of CH4 flux, we need affordable, rugged, and portable sensors that can be deployed for days to weeks at a time. This webpage documents the design, construction, and field testing of 10 prototype chambers to measure CH4 and carbon dioxide (CO2) flux from a variety of environments (e.g., manure, wetlands, lakes, agricultural fields). The development of these affordable, portable, rugged, and easy to use chambers will expand ground CH4 flux measurements world-wide, ultimately providing much-needed science to inform carbon policy.\n",
    "\n",
    "**This webpage is dynamic, and will be updated as the project progresses.**"
   ]
  },
  {
   "cell_type": "markdown",
   "metadata": {},
   "source": [
    "***"
   ]
  },
  {
   "cell_type": "markdown",
   "metadata": {},
   "source": [
    "## Code\n",
    "\n",
    "All project code lives in [this git repository](https://github.com/CornellFluxChamber/ChamberCode). As we develop libraries for communicating with the various sensors that compose our floating flux chamber, those libraries will be documented on webpages linked below.\n",
    "\n",
    "- CO2 Sensor\n",
    "- Methane sensor\n",
    "- Temperature sensor\n",
    "- Humidity sensor\n",
    "- Realtime clock\n",
    "- SD card\n",
    "- [Stepper motors](https://vanhunteradams.com/Pico/Steppers/Lorenz.html)"
   ]
  },
  {
   "cell_type": "markdown",
   "metadata": {},
   "source": [
    "***"
   ]
  },
  {
   "cell_type": "markdown",
   "metadata": {},
   "source": [
    "## Mechanical design\n",
    "\n",
    "The links in this section will document the mechanical design of the device, along with bill of materials and assembly instructions."
   ]
  },
  {
   "cell_type": "markdown",
   "metadata": {},
   "source": [
    "***"
   ]
  },
  {
   "cell_type": "markdown",
   "metadata": {},
   "source": [
    "## Electrical design\n",
    "\n",
    "Will include documentation of schematic, layout, etc.\n",
    "\n",
    "- [Sensor trade study](https://docs.google.com/spreadsheets/d/1rdSiY21HsB15AhayNILNWM_bd6uwlbhkO6BxMMC41wQ/edit?gid=0#gid=0)"
   ]
  },
  {
   "cell_type": "markdown",
   "metadata": {},
   "source": [
    "***"
   ]
  },
  {
   "cell_type": "markdown",
   "metadata": {},
   "source": [
    "## Calibration and deployment instructions\n",
    "\n",
    "To be populated."
   ]
  },
  {
   "cell_type": "markdown",
   "metadata": {},
   "source": [
    "***"
   ]
  },
  {
   "cell_type": "markdown",
   "metadata": {},
   "source": [
    "## Resources and literature\n",
    "- [The proposal for this project, which describes our objectives](./Literature/Proposal.pdf)\n",
    "- [Self-Made Equipment for Automatic Methane Diffusion and Ebullition Measurements From Aquatic Environments](https://agupubs.onlinelibrary.wiley.com/doi/full/10.1029/2024JG008035)\n",
    "- [Technical note: Facilitating the use of low-cost methane (CH4)\n",
    "sensors in flux chambers – calibration, data processing, and\n",
    "an open-source make-it-yourself logger](https://bg.copernicus.org/articles/17/3659/2020/)\n",
    "- [Methane and carbon dioxide fluxes at high spatiotemporal resolution from a small temperate lake](https://www.sciencedirect.com/science/article/pii/S0048969723015115?via%3Dihub)\n",
    "- [Jonas Stage git repo](https://github.com/JonasStage/Methane-and-CO2-sensor/tree/main)\n",
    "- [Building J-Sensors](./Literature/Building_J_Sensors.pdf)\n",
    "- [Calibrating J-Sensors](./Literature/Calibrating_J_Sensors.pdf)"
   ]
  },
  {
   "cell_type": "markdown",
   "metadata": {},
   "source": [
    "***"
   ]
  }
 ],
 "metadata": {
  "kernelspec": {
   "display_name": "Python 3",
   "language": "python",
   "name": "python3"
  },
  "language_info": {
   "codemirror_mode": {
    "name": "ipython",
    "version": 3
   },
   "file_extension": ".py",
   "mimetype": "text/x-python",
   "name": "python",
   "nbconvert_exporter": "python",
   "pygments_lexer": "ipython3",
   "version": "3.8.3"
  }
 },
 "nbformat": 4,
 "nbformat_minor": 4
}
